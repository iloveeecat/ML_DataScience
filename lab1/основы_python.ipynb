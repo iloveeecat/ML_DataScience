{
  "cells": [
    {
      "cell_type": "markdown",
      "metadata": {
        "id": "M-DGa20PaHnu"
      },
      "source": [
        "#Задача 1\n",
        "Написать функцию на вход которой подается строка, состоящая из латинских букв.\n",
        "Функция должна вернуть количество гласных букв (a, e, i, o, u) в этой строке. Написать тесты для кода"
      ]
    },
    {
      "cell_type": "code",
      "execution_count": 23,
      "metadata": {
        "id": "XvX8X_JJ6PCb"
      },
      "outputs": [
        {
          "name": "stdout",
          "output_type": "stream",
          "text": [
            "Тесты пройдены\n"
          ]
        }
      ],
      "source": [
        "import re\n",
        "\n",
        "def count_vowel_letters(input_str):\n",
        "    if input_str == '':\n",
        "        raise ValueError('Пустая строка')\n",
        "    if not re.match(r'^[a-zA-Z\\s]+$', input_str):\n",
        "        raise ValueError('Строка содержит другие символы, помимо латинских букв')\n",
        "    input_str = input_str.lower()\n",
        "    vowel_letters = {'a', 'e', 'i', 'o', 'u'}\n",
        "    counter = 0\n",
        "    for letter in input_str:\n",
        "        if letter in vowel_letters:\n",
        "            counter += 1\n",
        "    return counter\n",
        "\n",
        "def tests_count_vowel_letters():\n",
        "    assert count_vowel_letters('Hello Python') == 3, 'Тест не пройден'\n",
        "    assert count_vowel_letters('qwertyuiopasdfghjklzxcvbnnm') == 5, 'Тест не пройден'\n",
        "    assert count_vowel_letters('AAAEEETTYYY') == 6, 'Тест не пройден'\n",
        "    assert count_vowel_letters('ksTRQWYPPJdd') == 0, 'Тест не пройден'\n",
        "    assert count_vowel_letters('So long lives this and this gives life to thee') == 14, 'Тест не пройден'\n",
        "    assert count_vowel_letters('QWERRRTTTTTYYYy') == 1, 'Тест не пройден'\n",
        "\n",
        "    try:\n",
        "        count_vowel_letters('Hello мир')\n",
        "    except ValueError as error:\n",
        "        assert str(error) == 'Строка содержит другие символы, помимо латинских букв'\n",
        "\n",
        "    try:\n",
        "        count_vowel_letters('YYTTi     12iEEUOOASD')\n",
        "    except ValueError as error:\n",
        "        assert str(error) == 'Строка содержит другие символы, помимо латинских букв'\n",
        "\n",
        "    try:\n",
        "        count_vowel_letters('!@ASDFRWYенгыояф7')\n",
        "    except ValueError as error:\n",
        "        assert str(error) == 'Строка содержит другие символы, помимо латинских букв'\n",
        "\n",
        "    try:\n",
        "        count_vowel_letters('')\n",
        "    except ValueError as error:\n",
        "        assert str(error) == 'Пустая строка'\n",
        "\n",
        "tests_count_vowel_letters()\n",
        "print('Тесты пройдены')\n",
        "\n"
      ]
    },
    {
      "cell_type": "markdown",
      "metadata": {
        "id": "t2ClV_Y0bbr6"
      },
      "source": [
        "# Задача 2\n",
        "Написать функцию на вход, которой подается строка. Функция должна вернуть true, если\n",
        "каждый символ в строке встречается только 1 раз, иначе должна вернуть false. Написать тесты для кода"
      ]
    },
    {
      "cell_type": "code",
      "execution_count": 2,
      "metadata": {
        "id": "FppbECao6VIz"
      },
      "outputs": [],
      "source": [
        "# для условия, если считать пробел символом:\n",
        "def is_original_symbol(input_str):\n",
        "    if input_str == '':\n",
        "        raise ValueError('Пустая строка')\n",
        "    for letter in input_str:\n",
        "        if input_str.count(letter) != 1:\n",
        "            return False\n",
        "    return True\n",
        "\n",
        "def tests_is_original_symbol():\n",
        "    assert is_original_symbol('i') == True, 'Тест не пройден'\n",
        "    assert is_original_symbol('input_str') == False, 'Тест не пройден'\n",
        "    assert is_original_symbol('qwertyuiopasdfghjklzxcvbnm') == True, 'Тест не пройден'\n",
        "    assert is_original_symbol('1238trewqudt!$vcds') == False, 'Тест не пройден'\n",
        "    assert is_original_symbol('Hello Python') == False, 'Тест не пройден'\n",
        "    assert is_original_symbol('The dog is black') == False, 'Тест не пройден'\n",
        "    assert is_original_symbol('Привет World!') == True, 'Тест не пройден'\n",
        "    assert is_original_symbol(' ') == True, 'Тест не пройден'\n",
        "\n",
        "    try:\n",
        "        is_original_symbol('')\n",
        "    except ValueError as error:\n",
        "        assert str(error) == 'Пустая строка'\n",
        "        \n",
        "tests_is_original_symbol()\n",
        "\n",
        "# Код ниже для условия, если НЕ считать пробел символом:\n",
        "\n",
        "# def is_original_symbol(input_str):\n",
        "#     list_letters = input_str.split()\n",
        "#     letters = ''.join(list_letters)\n",
        "#     if letters == '':\n",
        "#         raise ValueError('Пустая строка')\n",
        "#     for letter in letters:\n",
        "#         if input_str.count(letter) != 1:\n",
        "#             return False\n",
        "#     return True\n",
        "\n",
        "# def tests_is_original_symbol():\n",
        "#     assert is_original_symbol('input_str') == False, 'Тест не пройден'\n",
        "#     assert is_original_symbol('qwertyuiopasdfghjklzxcvbnm') == True, 'Тест не пройден'\n",
        "#     assert is_original_symbol('1238trewqudt!$vcds') == False, 'Тест не пройден'\n",
        "#     assert is_original_symbol('Hello Python') == False, 'Тест не пройден'\n",
        "#     assert is_original_symbol('The dog is black') == True, 'Тест не пройден'\n",
        "#     assert is_original_symbol('Привет World!') == True, 'Тест не пройден'\n",
        "\n",
        "#     try:\n",
        "#         is_original_symbol('')\n",
        "#     except ValueError as error:\n",
        "#         assert str(error) == 'Пустая строка'\n",
        "        \n",
        "# tests_is_original_symbol()"
      ]
    },
    {
      "cell_type": "markdown",
      "metadata": {
        "id": "udRiIK1cdt6E"
      },
      "source": [
        "# Задача 3\n",
        "Написать функцию, которая принимает положительное число и возвращает количество\n",
        "бит равных 1 в этом числе. Написать тесты для кода"
      ]
    },
    {
      "cell_type": "code",
      "execution_count": 3,
      "metadata": {
        "id": "6tkfDJRz6dp_"
      },
      "outputs": [],
      "source": [
        "def count_binary_units(num):\n",
        "    if num < 0:\n",
        "        raise ValueError('Отрицательное число')\n",
        "    return bin(num).count('1')\n",
        "\n",
        "def tests_count_binary_units():\n",
        "    assert count_binary_units(1) == 1, 'Тест не пройден'\n",
        "    assert count_binary_units(5) == 2, 'Тест не пройден'\n",
        "    assert count_binary_units(11) == 3, 'Тест не пройден'\n",
        "    assert count_binary_units(100) == 3, 'Тест не пройден'\n",
        "    assert count_binary_units(234) == 5, 'Тест не пройден'\n",
        "    assert count_binary_units(7864) == 8, 'Тест не пройден'\n",
        "    assert count_binary_units(100000) == 6, 'Тест не пройден'\n",
        "    assert count_binary_units(0) == 0, 'Тест не пройден'\n",
        "\n",
        "    try:\n",
        "        count_binary_units(-13)\n",
        "    except ValueError as error:\n",
        "        assert str(error) == 'Отрицательное число'\n",
        "\n",
        "tests_count_binary_units()"
      ]
    },
    {
      "cell_type": "markdown",
      "metadata": {
        "id": "26dDUz-Ae17N"
      },
      "source": [
        "# Задача 4\n",
        "Написать функцию, которая принимает положительное число. Функция должна вернуть то,\n",
        "сколько раз необходимо перемножать цифры числа или результат перемножения, чтобы\n",
        "получилось число состоящее из одной цифры.\n",
        "Например, для входного числа:\n",
        "· 39 функция должна вернуть 3, так как 3*9=27 => 2*7=14 => 1*4=4\n",
        "· 4 функция должна вернуть 0, так как число уже состоит из одной цифры\n",
        "· 999 функция должна вернуть 4, так как 9*9*9=729 => 7*2*9=126 => 1*2*6=12 =>\n",
        "1*2=2. Написать тесты для кода"
      ]
    },
    {
      "cell_type": "code",
      "execution_count": 4,
      "metadata": {
        "id": "BH1A_Mgi6i4G"
      },
      "outputs": [],
      "source": [
        "def magic(n):\n",
        "    if n <= 0:\n",
        "        raise ValueError('Отрицательное число или ноль')\n",
        "    result = 0\n",
        "    if (0 < n < 10):\n",
        "        return 0\n",
        "    while (n >= 10):\n",
        "        product = 1\n",
        "        for digit in str(n):\n",
        "            product *= int(digit)\n",
        "        result += 1\n",
        "        n = product\n",
        "    return result\n",
        "\n",
        "def test_magic():\n",
        "    assert magic(1) == 0, 'Тест не пройден'\n",
        "    assert magic(39) == 3, 'Тест не пройден'\n",
        "    assert magic(4) == 0, 'Тест не пройден'\n",
        "    assert magic(999) == 4, 'Тест не пройден'\n",
        "    assert magic(785) == 2, 'Тест не пройден'\n",
        "    assert magic(1256) == 2, 'Тест не пройден'\n",
        "    assert magic(189) == 3, 'Тест не пройден'\n",
        "\n",
        "try: \n",
        "    magic(-14) \n",
        "except ValueError as error:\n",
        "    assert str(error) == 'Отрицательное число или ноль'\n",
        "\n",
        "test_magic()"
      ]
    },
    {
      "cell_type": "markdown",
      "metadata": {
        "id": "0nS-kIa8g8vd"
      },
      "source": [
        "# Задача 5\n",
        "Написать функцию, которая принимает два целочисленных вектора одинаковой длины и\n",
        "возвращает среднеквадратическое отклонение двух векторов. Написать тесты для кода"
      ]
    },
    {
      "cell_type": "markdown",
      "metadata": {},
      "source": []
    },
    {
      "cell_type": "code",
      "execution_count": 20,
      "metadata": {
        "id": "8iphx4LM6xbx"
      },
      "outputs": [],
      "source": [
        "import math\n",
        "\n",
        "def mse(pred, true):\n",
        "    if len(pred) != len(true):\n",
        "        raise ValueError('Векторы разной длины')\n",
        "    differences = [(x - y) ** 2 for x, y in zip(pred, true)]\n",
        "    average_value = sum(differences) / len(differences)  \n",
        "    return average_value  \n",
        "\n",
        "def tests_mse():\n",
        "    assert mse([0, 0, 0], [0, 0, 0]) == 0.0, 'Тест не пройден'\n",
        "    assert mse([1, 5, 3], [4, 9, 3]) == 8.333333333333334, 'Тест не пройден'  \n",
        "    assert mse([1, 5, 3, 7], [4, 9, 3, 1]) == 15.25, 'Тест не пройден'  \n",
        "    assert mse([2, 3, 3], [2, 3, 3]) == 0.0, 'Тест не пройден'\n",
        "    assert mse([-2, 4, -3], [6, -3, 9]) == 85.66666666666667, 'Тест не пройден'  \n",
        "\n",
        "    try: \n",
        "        mse([1, 5, 3], [9, 3]) \n",
        "    except ValueError as error:\n",
        "        assert str(error) == 'Векторы разной длины'\n",
        "\n",
        "tests_mse()\n"
      ]
    },
    {
      "cell_type": "markdown",
      "metadata": {
        "id": "vpIPKL439zkw"
      },
      "source": [
        "# Задача 6\n",
        "Написать функцию, принимающая целое положительное число. Функция должна вернуть\n",
        "строку вида “(n1**p1)(n2**p2)…(nk**pk)” представляющая разложение числа на простые\n",
        "множители (если pi == 1, то выводить только ni).\n",
        "Например, для числа 86240 функция должна вернуть “(2**5)(5)(7**2)(11)”. Написать тесты для кода"
      ]
    },
    {
      "cell_type": "code",
      "execution_count": 21,
      "metadata": {
        "id": "pFebmcZk94Jw"
      },
      "outputs": [],
      "source": [
        "def get_prime_factors(num):\n",
        "    if num < 1 or not isinstance(num, int):\n",
        "        raise ValueError('Должно быть целое положительное число')\n",
        "    if num == 1:\n",
        "        return '(1)'\n",
        "    factors = {}\n",
        "    divisor = 2\n",
        "    while (divisor <= num):\n",
        "        if num % divisor == 0:\n",
        "            if divisor in factors:\n",
        "                factors[divisor] += 1\n",
        "            else:\n",
        "                factors[divisor] = 1\n",
        "            num = num / divisor\n",
        "        else: divisor += 1\n",
        "\n",
        "    result = ''\n",
        "    for factor, degree in factors.items():\n",
        "        if degree == 1:\n",
        "            result += f'({factor})'\n",
        "        else:\n",
        "            result += f'({factor}**{degree})'\n",
        "    return result\n",
        "\n",
        "def tests_get_prime_factors():\n",
        "    assert get_prime_factors(60) == '(2**2)(3)(5)', 'Тест не пройден'\n",
        "    assert get_prime_factors(123) == '(3)(41)', 'Тест не пройден'\n",
        "    assert get_prime_factors(785) == '(5)(157)', 'Тест не пройден'\n",
        "    assert get_prime_factors(78965) == '(5)(17)(929)', 'Тест не пройден'\n",
        "    assert get_prime_factors(1) == '(1)', 'Тест не пройден'\n",
        "    try: \n",
        "        get_prime_factors(-12)\n",
        "    except ValueError as error:\n",
        "        assert str(error) == 'Должно быть целое положительное число'\n",
        "    try: \n",
        "        get_prime_factors(12.2)\n",
        "    except ValueError as error:\n",
        "        assert str(error) == 'Должно быть целое положительное число'\n",
        "\n",
        "tests_get_prime_factors() \n",
        "    \n",
        "    \n",
        "    \n",
        "     "
      ]
    },
    {
      "cell_type": "markdown",
      "metadata": {
        "id": "ps2s0BudX7A2"
      },
      "source": [
        "# Задача 7\n",
        "Написать функцию, принимающая целое число n, задающее количество кубиков. Функция\n",
        "должна определить, можно ли из данного кол-ва кубиков построить пирамиду, то есть\n",
        "можно ли представить число n как 1^2+2^2+3^2+…+k^2. Если можно, то функция должна\n",
        "вернуть k, иначе строку “It is impossible”. Написать тесты для кода"
      ]
    },
    {
      "cell_type": "code",
      "execution_count": 7,
      "metadata": {
        "id": "3YPjEXxhX_YT"
      },
      "outputs": [],
      "source": [
        "def pyramid(number):\n",
        "    if number < 0: \n",
        "        return 'It is impossible'\n",
        "    result = 0\n",
        "    k = 0\n",
        "    while (result < number):\n",
        "        k += 1\n",
        "        result += k ** 2\n",
        "        if result == number:\n",
        "            return k\n",
        "    return 'It is impossible'\n",
        "\n",
        "def tests_pyramid():\n",
        "    assert pyramid(1) == 1, 'Тест не пройден'\n",
        "    assert pyramid(0) == 'It is impossible', 'Тест не пройден'\n",
        "    assert pyramid(55) == 5, 'Тест не пройден'\n",
        "    assert pyramid(49) == 'It is impossible', 'Тест не пройден'\n",
        "    assert pyramid(140) == 7, 'Тест не пройден'\n",
        "    assert pyramid(506) == 11, 'Тест не пройден'\n",
        "    \n",
        "    try: \n",
        "        pyramid(-12)\n",
        "    except ValueError as error:\n",
        "        assert str(error) == 'It is impossible'\n",
        "\n",
        "tests_pyramid() "
      ]
    },
    {
      "cell_type": "markdown",
      "metadata": {
        "id": "KeKgmIdAQMEJ"
      },
      "source": [
        "# Задача 8\n",
        "Функция принимает на вход положительное число и определяет является ли оно сбалансированным, т.е. сумма цифр до средних равна сумме цифр после. Средними в случае нечетного числа цифр считать одну цифру, в случае четного - две средних. Написать тесты для кода"
      ]
    },
    {
      "cell_type": "code",
      "execution_count": 8,
      "metadata": {
        "id": "gMAAqtqlQrZt"
      },
      "outputs": [],
      "source": [
        "def is_balanced(num):\n",
        "    if num < 0:\n",
        "        return 'Число должно быть положительным'\n",
        "    str_num = str(num)\n",
        "    medium = int(len(str_num) / 2)\n",
        "    if len(str_num) % 2 == 0:\n",
        "        left = str_num[:medium - 1]\n",
        "        right = str_num[medium + 1:]\n",
        "    else:\n",
        "        left = str_num[:medium]\n",
        "        right = str_num[medium + 1:]\n",
        "    left_side = sum(int(n) for n in left)\n",
        "    right_side = sum(int(n) for n in right)\n",
        "    return left_side == right_side\n",
        "\n",
        "\n",
        "def tests_is_balanced():\n",
        "    assert is_balanced(1) == True, 'Тест не пройден'\n",
        "    assert is_balanced(14523) == True, 'Тест не пройден'\n",
        "    assert is_balanced(784596) == True, 'Тест не пройден'\n",
        "    assert is_balanced(458620314) == False, 'Тест не пройден'\n",
        "    assert is_balanced(917565089) == True, 'Тест не пройден'\n",
        "    assert is_balanced(157842) == True, 'Тест не пройден'\n",
        "    assert is_balanced(0) == True, 'Тест не пройден'\n",
        "\n",
        "    try:\n",
        "        is_balanced(-12)\n",
        "    except ValueError as error:\n",
        "        assert str(error) == 'It is impossible'\n",
        "\n",
        "tests_is_balanced()\n",
        "    "
      ]
    }
  ],
  "metadata": {
    "colab": {
      "provenance": []
    },
    "kernelspec": {
      "display_name": "Python 3",
      "name": "python3"
    },
    "language_info": {
      "codemirror_mode": {
        "name": "ipython",
        "version": 3
      },
      "file_extension": ".py",
      "mimetype": "text/x-python",
      "name": "python",
      "nbconvert_exporter": "python",
      "pygments_lexer": "ipython3",
      "version": "3.11.4"
    }
  },
  "nbformat": 4,
  "nbformat_minor": 0
}
