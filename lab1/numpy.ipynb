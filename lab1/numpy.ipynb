{
  "cells": [
    {
      "cell_type": "markdown",
      "metadata": {
        "id": "vC84e9kzyxPy"
      },
      "source": [
        "<h1>Импорт библиотек"
      ]
    },
    {
      "cell_type": "code",
      "execution_count": 3,
      "metadata": {
        "id": "cgKeNegmQG5S"
      },
      "outputs": [],
      "source": [
        "import numpy as np\n",
        "import matplotlib.pyplot as plt"
      ]
    },
    {
      "cell_type": "markdown",
      "metadata": {
        "id": "qFM9uVU2x4Ls"
      },
      "source": [
        "<h1>Задача 1. Дан набор из $p$ матриц размерностью $(n, n)$ и $p$ векторов размерностью $(n, 1)$, найти сумму произведений матриц на векторы. Написать тесты для кода"
      ]
    },
    {
      "cell_type": "code",
      "execution_count": 4,
      "metadata": {
        "id": "IAbUvEiYyWFF"
      },
      "outputs": [],
      "source": [
        "import numpy as np\n",
        "\n",
        "def sum_prod(X, V):\n",
        "    result = np.zeros((X[0].shape[0], 1))\n",
        "    for x, v in zip(X, V):\n",
        "        if x.shape[1] == v.shape[0]:\n",
        "            multiplication = np.dot(x, v)\n",
        "            result += multiplication\n",
        "        else:\n",
        "            raise ValueError('Количество столбцов матрицы не равно количеству строк вектора')\n",
        "    return result\n",
        "\n",
        "def tests_sum_prod():\n",
        "    assert np.array_equal(sum_prod([np.array([[0, 0], [0, 0]]), np.array([[0, 0], [0, 0]])], \n",
        "            [np.array([[0], [0]]), np.array([[0], [0]])]), np.array([[0], [0]])), 'Тест не пройден'\n",
        "    \n",
        "    assert np.array_equal(sum_prod([np.eye(5), np.eye(5)], \n",
        "            [np.ones((5, 1)), np.ones((5, 1))]), np.array([[2], [2], [2], [2], [2]])), 'Тест не пройден'\n",
        "    \n",
        "    assert np.array_equal(sum_prod([np.array([[4, 2], [7, 6]]), np.array([[1, 4], [1, 8]])], \n",
        "            [np.array([[2], [1]]), np.array([[7], [1]])]), np.array([[21], [35]])), 'Тест не пройден'\n",
        "\n",
        "    assert np.array_equal(sum_prod([np.array([[1, 2], [3, 4]]), np.array([[5, 6], [7, 8]])], \n",
        "            [np.array([[1], [1]]), np.array([[1], [1]])]), np.array([[14], [22]])), 'Тест не пройден'\n",
        "    \n",
        "tests_sum_prod()\n",
        "\n"
      ]
    },
    {
      "cell_type": "markdown",
      "metadata": {
        "id": "TKwPG4fIy2w4"
      },
      "source": [
        "<h1>Задача 2. Дана матрица M, напишите функцию, которая бинаризует матрицу по некоторому threshold (то есть, все значения большие threshold становятся равными 1, иначе 0). Напишите тесты для кода"
      ]
    },
    {
      "cell_type": "code",
      "execution_count": 5,
      "metadata": {
        "id": "KQDNMgsjRNH7"
      },
      "outputs": [],
      "source": [
        "def binarize(M, threshold=0.5):\n",
        "    return [[1 if m > threshold else 0 for m in row] for row in M]\n",
        "\n",
        "def tests_binarize():\n",
        "    M1 = [\n",
        "        [0.1, 2, 0.3],\n",
        "        [7, 0.4, 0.1],\n",
        "        [0.5, 0.2, 8]\n",
        "    ]\n",
        "    result1 = [\n",
        "        [0, 1, 0],\n",
        "        [1, 0, 0],\n",
        "        [0, 0, 1]\n",
        "    ]\n",
        "\n",
        "    assert binarize(M1, 0.5) == result1, 'Тест не пройден'\n",
        "\n",
        "    M2 = [\n",
        "        [0, 0.8, 0.4],\n",
        "        [0.6, 0.3, 0.9],\n",
        "        [0.4, 1, 0.5]\n",
        "    ]\n",
        "    result2 = [\n",
        "        [0, 1, 0],\n",
        "        [1, 0, 1],\n",
        "        [0, 1, 1]\n",
        "    ]\n",
        "\n",
        "    assert binarize(M2, 0.4) == result2, 'Тест не пройден'\n",
        "\n",
        "    M3 = [\n",
        "        [-1, 0.9],\n",
        "        [2, -0.9]\n",
        "    ]\n",
        "    result3 = [\n",
        "        [0, 1],\n",
        "        [1, 0]\n",
        "    ]\n",
        "\n",
        "    assert binarize(M3, 0) == result3, \"Test 4 Failed\"\n",
        "\n",
        "    M4 = [\n",
        "        [0, 0.8, 0.4],\n",
        "        [1, 0.3, 1],\n",
        "        [0.4, 0.8, 0.5],\n",
        "        [0.7, 1, 0.5]\n",
        "    ]\n",
        "    result4 = [\n",
        "        [0, 1, 0],\n",
        "        [1, 0, 1],\n",
        "        [0, 1, 0],\n",
        "        [1, 1, 0]\n",
        "    ]\n",
        "\n",
        "    assert binarize(M4, 0.6) == result4, 'Тест не пройден'\n",
        "\n",
        "tests_binarize()"
      ]
    },
    {
      "cell_type": "markdown",
      "metadata": {
        "id": "IY5L-h-7zWhN"
      },
      "source": [
        "<h1>Задача 3. Напишите функцию, которая возвращает уникальные элементы из каждой строки матрицы. Напишите такую же функцию, но для столбцов. Напишите тесты для кода"
      ]
    },
    {
      "cell_type": "code",
      "execution_count": 6,
      "metadata": {
        "id": "-8dEZhR0SBC-"
      },
      "outputs": [],
      "source": [
        "def unique_rows(mat):\n",
        "    return [list(set(row)) for row in mat]\n",
        "\n",
        "def unique_columns(mat):\n",
        "    transported = list(zip(*mat))\n",
        "    return [list(set(columns)) for columns in transported]\n",
        "    \n",
        "def tests_unique_rows_and_columns():\n",
        "    mat1 = [\n",
        "        [7, 1, 2, 8],\n",
        "        [4, 4, 7, 5],\n",
        "        [3, 4, 7, 8]\n",
        "    ]\n",
        "    result_rows1 = [\n",
        "        [7, 1, 2, 8],  \n",
        "        [4, 7, 5],     \n",
        "        [3, 4, 7, 8]   \n",
        "    ]\n",
        "    result_columns1 = [\n",
        "        [7, 4, 3],     \n",
        "        [1, 4],       \n",
        "        [2, 7],        \n",
        "        [8, 5]         \n",
        "    ]\n",
        "    assert unique_rows(mat1) == result_rows1, 'Тест не пройден'\n",
        "    assert unique_rows(mat1) == result_columns1, 'Тест не пройден'\n",
        "\n",
        "    mat2 = [\n",
        "        [-1, -2, -1],\n",
        "        [-3, 7, -3],\n",
        "        [-1, -4, -1]\n",
        "    ]\n",
        "    result_rows3 = [\n",
        "        [-1, -2],  \n",
        "        [-3],  \n",
        "        [-1, -4] \n",
        "    ]\n",
        "    result_columns3 = [\n",
        "        [-1, -3],  \n",
        "        [-2],      \n",
        "        [-1, -3]  \n",
        "    ]\n",
        "    assert unique_rows(mat2) == result_rows3, 'Тест не пройден'\n",
        "    assert unique_columns(mat2) == result_columns3, 'Тест не пройден'\n",
        "\n",
        "    mat3 = [\n",
        "        [4],\n",
        "        [5],\n",
        "        [5]\n",
        "    ]\n",
        "    result_rows4 = [\n",
        "        [4],  \n",
        "        [5],\n",
        "        [5]\n",
        "    ]\n",
        "    result_columns4 = [\n",
        "        [4]\n",
        "        [5]  \n",
        "    ]\n",
        "    assert unique_rows(mat3) == result_rows4, 'Тест не пройден'\n",
        "    assert unique_columns(mat3) == result_columns4, 'Тест не пройден'\n"
      ]
    },
    {
      "cell_type": "markdown",
      "metadata": {
        "id": "roYAlo4Jz-lH"
      },
      "source": [
        " <h1>Задача 4. Напишите функцию, которая заполняет матрицу с размерами $(m, n)$ случайными числами, распределенными по нормальному закону. Затем считает мат. ожидание и дисперсию для каждого из столбцов и строк, а также строит для каждой строки и столбца гистограмму значений (использовать функцию hist из модуля matplotlib.plot)"
      ]
    },
    {
      "cell_type": "code",
      "execution_count": 7,
      "metadata": {
        "id": "nZK_71hMSQzv"
      },
      "outputs": [],
      "source": [
        "import matplotlib.pyplot as plt\n",
        "import numpy as np\n",
        "\n",
        "def generate_matrix_and_analyze(m, n, standart_deviation = 1, math_mean = 0):\n",
        "    matrix = np.random.normal(loc=math_mean, scale=standart_deviation, size=(m, n))\n",
        "    \n",
        "    row_mean = np.mean(matrix, axis = 1) \n",
        "    col_mean = np.mean(matrix, axis = 0)\n",
        "    row_variance = np.var(matrix, axis = 1)   \n",
        "    col_variance = np.var(matrix, axis = 0)\n",
        "    \n",
        "    print(\"Математическое ожидание по строкам: \", row_mean)\n",
        "    print(\"Дисперсия по строкам: \", row_variance)\n",
        "    print(\"Математическое ожидание по столбцам: \", col_mean)\n",
        "    print(\"Дисперсия по столбцам: \", col_variance)\n",
        "    \n",
        "    for i in range(m):\n",
        "        plt.figure()\n",
        "        plt.hist(matrix[i, :], bins = 10, alpha = 1, color = 'red', edgecolor = 'black')\n",
        "        plt.title(f'Гистограмма для строки {i + 1}')\n",
        "        plt.xlabel('Значения')\n",
        "        plt.ylabel('Частота')\n",
        "        plt.grid(True)\n",
        "        plt.show()\n",
        "\n",
        "    for j in range(n):\n",
        "        plt.figure()\n",
        "        plt.hist(matrix[:, j], bins = 10, alpha = 1, color = 'blue', edgecolor = 'black')\n",
        "        plt.title(f'Гистограмма для столбца {j + 1}')\n",
        "        plt.xlabel('Значения')\n",
        "        plt.ylabel('Частота')\n",
        "        plt.grid(True)\n",
        "        plt.show()"
      ]
    },
    {
      "cell_type": "markdown",
      "metadata": {
        "id": "BDyATNdM0dJ2"
      },
      "source": [
        "<h1>Задача 5. Напишите функцию, которая заполняет матрицу $(m, n)$ в шахматном порядке заданными числами $a$ и $b$. Напишите тесты для кода"
      ]
    },
    {
      "cell_type": "code",
      "execution_count": 8,
      "metadata": {
        "id": "RWNJYWQGecS6"
      },
      "outputs": [],
      "source": [
        "def chess(m, n, a, b):\n",
        "    matrix = [[0] * n for _ in range(m)]\n",
        "    \n",
        "    for i in range(m):\n",
        "        for j in range(n):\n",
        "            if (i + j) % 2 == 0:\n",
        "                matrix[i][j] = a\n",
        "            else:\n",
        "                matrix[i][j] = b\n",
        "                \n",
        "    return matrix\n",
        "\n",
        "def tests_chess():\n",
        "    result1 = [\n",
        "        [0, 1, 0, 1],\n",
        "        [1, 0, 1, 0],\n",
        "        [0, 1, 0, 1],\n",
        "        [1, 0, 1, 0]\n",
        "    ]\n",
        "    assert chess(4, 4, 0, 1) == result1, 'Тест не пройден'\n",
        "\n",
        "    result2 = [\n",
        "        [7, 8, 7, 8, 7],\n",
        "        [8, 7, 8, 7, 8]\n",
        "    ]\n",
        "    assert chess(2, 5, 7, 8) == result2, 'Тест не пройден'\n",
        "\n",
        "    result3 = [\n",
        "        [0, -1]\n",
        "    ]\n",
        "    assert chess(1, 2, 0, -1) == result3, 'Тест не пройден'\n",
        "\n",
        "    result4 = [\n",
        "        [1, -1, 1],\n",
        "        [-1, 1, -1],\n",
        "        [1, -1, 1],\n",
        "        [-1, 1, -1],\n",
        "        [1, -1, 1],\n",
        "        [-1, 1, -1]\n",
        "    ]\n",
        "    assert chess(6, 3, 1, -1) == result4, 'Тест не пройден'\n",
        "  \n",
        "    result5 = [\n",
        "        [2, 3, 2, 3],\n",
        "        [3, 2, 3, 2]\n",
        "    ]\n",
        "    assert chess(2, 4, 2, 3) == result5, 'Тест не пройден'\n",
        "\n",
        "tests_chess()\n"
      ]
    },
    {
      "cell_type": "markdown",
      "metadata": {
        "id": "-ymXLtTN0vB6"
      },
      "source": [
        "<h1>Задача 6. Напишите функцию, которая отрисовывает прямоугольник с заданными размерами (a, b) на изображении размера (m, n), цвет фона задайте в схеме RGB, как и цвет прямоугольника. Цвета также должны быть параметрами функции. Напишите аналогичную функцию но для овала с полуосями a и b. Напишите тесты для кода.\n",
        "Примечание: уравнение эллипса (границы овала) можно записать как:\n",
        "<h1>$\\frac{(x-x_0)^2}{a^2}+\\frac{(y-y_0)^2}{b^2}=1$"
      ]
    },
    {
      "cell_type": "code",
      "execution_count": 9,
      "metadata": {
        "id": "sNfl1t_kfOF4"
      },
      "outputs": [
        {
          "data": {
            "image/png": "[encoded data removed]",
            "text/plain": [
              "<Figure size 640x480 with 1 Axes>"
            ]
          },
          "metadata": {},
          "output_type": "display_data"
        },
        {
          "data": {
            "image/png": "[encoded data removed]",
            "text/plain": [
              "<Figure size 640x480 with 1 Axes>"
            ]
          },
          "metadata": {},
          "output_type": "display_data"
        },
        {
          "data": {
            "image/png": "[encoded data removed]",
            "text/plain": [
              "<Figure size 640x480 with 1 Axes>"
            ]
          },
          "metadata": {},
          "output_type": "display_data"
        },
        {
          "data": {
            "image/png": "[encoded data removed]",
            "text/plain": [
              "<Figure size 640x480 with 1 Axes>"
            ]
          },
          "metadata": {},
          "output_type": "display_data"
        },
        {
          "data": {
            "image/png": "[encoded data removed]",
            "text/plain": [
              "<Figure size 640x480 with 1 Axes>"
            ]
          },
          "metadata": {},
          "output_type": "display_data"
        },
        {
          "data": {
            "image/png": "[encoded data removed]",
            "text/plain": [
              "<Figure size 640x480 with 1 Axes>"
            ]
          },
          "metadata": {},
          "output_type": "display_data"
        },
        {
          "data": {
            "image/png": "[encoded data removed]",
            "text/plain": [
              "<Figure size 640x480 with 1 Axes>"
            ]
          },
          "metadata": {},
          "output_type": "display_data"
        },
        {
          "data": {
            "image/png": "[encoded data removed]",
            "text/plain": [
              "<Figure size 640x480 with 1 Axes>"
            ]
          },
          "metadata": {},
          "output_type": "display_data"
        }
      ],
      "source": [
        "import matplotlib.pyplot as plt\n",
        "import matplotlib.patches as patches\n",
        "\n",
        "def draw_rectangle(a, b, m, n, rectangle_color, background_color):\n",
        "    left = (m - a) / 2\n",
        "    bottom = (n - b) / 2\n",
        "\n",
        "    fig, ax = plt.subplots() \n",
        "    ax.set_xlim(0, m)\n",
        "    ax.set_ylim(0, n)\n",
        "    ax.set_facecolor(background_color)\n",
        "\n",
        "    rectangle = patches.Rectangle((left, bottom), a, b, linewidth = 1, edgecolor = rectangle_color, facecolor = background_color)\n",
        "    ax.add_patch(rectangle) \n",
        "    plt.axis('off')\n",
        "    plt.show() \n",
        "\n",
        "\n",
        "def draw_ellipse(a, b, m, n, ellipse_color, background_color):\n",
        "    x = m / 2\n",
        "    y = n / 2\n",
        "\n",
        "    fig, ax = plt.subplots()\n",
        "    ax.set_xlim(0, m)\n",
        "    ax.set_ylim(0, n)\n",
        "    ax.set_facecolor(background_color)\n",
        "\n",
        "    ellipse = patches.Ellipse((x, y), 2 * a, 2 * b, linewidth = 1, edgecolor = ellipse_color, facecolor = ellipse_color)\n",
        "    ax.add_patch(ellipse)\n",
        "    plt.axis('off')\n",
        "    plt.show()\n",
        "\n",
        "def test_draw_rectangle():\n",
        "    draw_rectangle(50, 25, 200, 200, 'blue', 'white')\n",
        "    draw_rectangle(100, 70, 200, 150, 'green', 'grey')\n",
        "    draw_rectangle(60, 60, 150, 100, 'red', 'white')\n",
        "    draw_rectangle(70, 40, 180, 180, 'yellow', 'white')\n",
        "\n",
        "def test_draw_ellipse():\n",
        "    draw_ellipse(50, 25, 200, 200, 'green', 'white')\n",
        "    draw_ellipse(100, 70, 300, 300, 'red', 'white')\n",
        "    draw_ellipse(80, 80, 300, 200, 'blue', 'white')\n",
        "    draw_ellipse(54, 104, 150, 250, 'black', 'white')\n",
        "\n",
        "test_draw_rectangle()\n",
        "test_draw_ellipse()"
      ]
    },
    {
      "cell_type": "markdown",
      "metadata": {
        "id": "S82c38oz244H"
      },
      "source": [
        "<h1>Задача 7. Дан некий временной ряд. Для данного ряда нужно найти его: математическое ожидание, дисперсию, СКО, найти все локальные максимумы и минимумы (локальный максимум - это точка, которая больше своих соседних точек, а локальный минимум - это точка, которая меньше своих соседей), а также вычислить для данного ряда другой ряд, получаемый методом скользящего среднего с размером окна $p$.\n",
        "<h1>Примечание: метод скользящего среднего подразумевает нахождение среднего из подмножетсва ряда размером $p$"
      ]
    },
    {
      "cell_type": "code",
      "execution_count": 23,
      "metadata": {
        "id": "Zb9mIVge5MMt"
      },
      "outputs": [],
      "source": [
        "import numpy as np\n",
        "\n",
        "def mean(series):\n",
        "    return np.mean(series)\n",
        "\n",
        "def variance(series):\n",
        "    return np.var(series)\n",
        "\n",
        "def standart_deviation(series):\n",
        "    return np.std(series)\n",
        "\n",
        "def extrema(series):\n",
        "    maxima = np.where((series[1:-1] > series[:-2]) & (series[1:-1] > series[2:]))[0] + 1\n",
        "    minima = np.where((series[1:-1] < series[:-2]) & (series[1:-1] < series[2:]))[0] + 1\n",
        "    return maxima, minima\n",
        "\n",
        "def moving_average(series, p):\n",
        "    if p > len(series):\n",
        "        return np.array([]) \n",
        "    return np.convolve(series, np.ones(p) / p, mode='valid')\n",
        "\n",
        "def tests_mean():\n",
        "    series = np.array([1, 2, 3, 4, 5])\n",
        "    assert mean(series) == 3.0, 'Тест не пройден'\n",
        "\n",
        "    series = np.array([10, 10, 10])\n",
        "    assert mean(series) == 10.0, 'Тест не пройден'\n",
        "\n",
        "    series = np.array([-1, -2, -3])\n",
        "    assert mean(series) == -2.0, 'Тест не пройден'\n",
        "\n",
        "    series = np.array([])\n",
        "    assert np.isnan(mean(series)), 'Тест не пройден'\n",
        "\n",
        "def tests_variance():\n",
        "    series = np.array([5, 5, 5])\n",
        "    assert variance(series) == 0.0, 'Тест не пройден'\n",
        "\n",
        "    series = np.array([1, 2, 3, 4])\n",
        "    assert np.isclose(variance(series), 1.25), 'Тест не пройден'\n",
        "\n",
        "    series = np.array([])\n",
        "    assert np.isnan(variance(series)), 'Тест не пройден'\n",
        "\n",
        "def tests_standart_deviation():\n",
        "    series = np.array([1, 1, 1])\n",
        "    assert standart_deviation(series) == 0.0, 'Тест не пройден'\n",
        "\n",
        "    series = np.array([1, 2, 3])\n",
        "    assert np.isclose(standart_deviation(series), 0.816496580927726, rtol=1e-9), 'Тест не пройден'\n",
        "\n",
        "    series = np.array([])\n",
        "    assert np.isnan(standart_deviation(series)), 'Тест не пройден'\n",
        "\n",
        "def tests_extrema():\n",
        "    series = np.array([4, 4, 4])\n",
        "    maxima, minima = extrema(series)\n",
        "    assert len(maxima) == 0, 'Тест не пройден'\n",
        "    assert len(minima) == 0, 'Тест не пройден'\n",
        "\n",
        "def tests_moving_average():\n",
        "    series = np.array([1, 2, 3, 4, 5])\n",
        "    p = 2\n",
        "    expected_result = np.array([1.5, 2.5, 3.5, 4.5])\n",
        "    assert np.array_equal(moving_average(series, p), expected_result), 'Тест не пройден'\n",
        "    p = 6\n",
        "    assert np.array_equal(moving_average(series, p), np.array([])), 'Тест не пройден'\n",
        "    \n",
        "tests_mean()\n",
        "tests_variance()\n",
        "tests_standart_deviation()\n",
        "tests_extrema()\n",
        "tests_moving_average()"
      ]
    },
    {
      "cell_type": "markdown",
      "metadata": {
        "id": "jPkylmOX5O9n"
      },
      "source": [
        "<h1> Задача 8. Дан некоторый вектор с целочисленными метками классов, напишите функцию, которая выполняет one-hot-encoding для данного вектора\n",
        "<h1> One-hot-encoding - представление, в котором на месте метки некоторого класса стоит 1, в остальных позициях стоит 0. Например для вектора [0, 2, 3, 0] one-hot-encoding выглядит как: [[1, 0, 0, 0], [0, 0, 1, 0], [0, 0, 0, 1], [1, 0, 0, 0]]"
      ]
    },
    {
      "cell_type": "code",
      "execution_count": 12,
      "metadata": {
        "id": "Y-jlnZvw56lD"
      },
      "outputs": [],
      "source": [
        "import numpy as np\n",
        "\n",
        "def one_hot_encoding(vector):\n",
        "    number_classes = np.max(vector) + 1\n",
        "    one_hot_matrix = np.zeros((len(vector), number_classes))\n",
        "    one_hot_matrix[np.arange(len(vector)), vector] = 1\n",
        "    return one_hot_matrix\n",
        "\n",
        "def tests_one_hot_encoding():\n",
        "    vector = np.array([0, 2, 3, 0])\n",
        "    expected_output = np.array([\n",
        "        [1, 0, 0, 0],\n",
        "        [0, 0, 1, 0],\n",
        "        [0, 0, 0, 1],\n",
        "        [1, 0, 0, 0]\n",
        "    ])\n",
        "    assert np.array_equal(one_hot_encoding(vector), expected_output), 'Тест не пройден'\n",
        "\n",
        "    vector = np.array([1, 1, 1, 1])\n",
        "    expected_output = np.array([\n",
        "        [0, 1],\n",
        "        [0, 1],\n",
        "        [0, 1],\n",
        "        [0, 1]\n",
        "    ])\n",
        "    assert np.array_equal(one_hot_encoding(vector), expected_output), 'Тест не пройден'\n",
        "\n",
        "    vector = np.array([0, 1, 2, 3])\n",
        "    expected_output = np.array([\n",
        "        [1, 0, 0, 0],\n",
        "        [0, 1, 0, 0],\n",
        "        [0, 0, 1, 0],\n",
        "        [0, 0, 0, 1]\n",
        "    ])\n",
        "    assert np.array_equal(one_hot_encoding(vector), expected_output), 'Тест не пройден'\n",
        "\n",
        "    vector = np.array([2])\n",
        "    expected_output = np.array([\n",
        "        [0, 0, 1]\n",
        "    ])\n",
        "    assert np.array_equal(one_hot_encoding(vector), expected_output), 'Тест не пройден'\n",
        "\n",
        "    vector = np.array([1, 0, 1, 2])\n",
        "    expected_output = np.array([\n",
        "        [0, 1, 0],\n",
        "        [1, 0, 0],\n",
        "        [0, 1, 0],\n",
        "        [0, 0, 1]\n",
        "    ])\n",
        "    assert np.array_equal(one_hot_encoding(vector), expected_output), 'Тест не пройден'\n",
        "\n",
        "tests_one_hot_encoding()"
      ]
    }
  ],
  "metadata": {
    "colab": {
      "provenance": []
    },
    "kernelspec": {
      "display_name": "Python 3",
      "name": "python3"
    },
    "language_info": {
      "codemirror_mode": {
        "name": "ipython",
        "version": 3
      },
      "file_extension": ".py",
      "mimetype": "text/x-python",
      "name": "python",
      "nbconvert_exporter": "python",
      "pygments_lexer": "ipython3",
      "version": "3.11.4"
    }
  },
  "nbformat": 4,
  "nbformat_minor": 0
}
